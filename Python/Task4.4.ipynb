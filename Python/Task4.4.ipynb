{
 "cells": [
  {
   "cell_type": "code",
   "execution_count": 1,
   "metadata": {},
   "outputs": [
    {
     "name": "stdout",
     "output_type": "stream",
     "text": [
      "<class 'pandas.core.frame.DataFrame'>\n",
      "RangeIndex: 462 entries, 0 to 461\n",
      "Columns: 257 entries, QikProp_.stars to cox2Class\n",
      "dtypes: float64(212), int64(44), object(1)\n",
      "memory usage: 927.7+ KB\n"
     ]
    },
    {
     "data": {
      "text/plain": [
       "(None,\n",
       "    QikProp_.stars  QikProp_.amine  QikProp_.acid  QikProp_.rotor  \\\n",
       " 0               1               0              0               1   \n",
       " 1               0               0              0               2   \n",
       " 2               0               0              0               3   \n",
       " 3               1               0              0               2   \n",
       " 4               1               0              0               2   \n",
       " \n",
       "    QikProp_.rctvFG  QikProp_CNS  QikProp_MW  QikProp_dipole  QikProp_SASA  \\\n",
       " 0                0            0     358.882           7.645       635.022   \n",
       " 1                0           -1     359.870           7.959       622.548   \n",
       " 2                0           -1     355.451           7.500       610.972   \n",
       " 3                0           -1     393.423           9.342       651.852   \n",
       " 4                0           -1     394.315           9.409       637.688   \n",
       " \n",
       "    QikProp_FOSA  ...  moe2D_vsa_acc  moe2D_vsa_don  moe2D_vsa_hyd  \\\n",
       " 0       273.363  ...          32.02           0.00          268.2   \n",
       " 1       189.930  ...          32.02          20.14          236.8   \n",
       " 2       268.526  ...          34.52          20.14          238.4   \n",
       " 3       190.772  ...          32.02          20.14          249.7   \n",
       " 4       189.933  ...          32.02          20.14          255.1   \n",
       " \n",
       "    moe2D_vsa_other  moe2D_vsa_pol  moe2D_weinerPath  moe2D_weinerPol  \\\n",
       " 0            6.513            0.0              1340               37   \n",
       " 1           10.110            0.0              1340               37   \n",
       " 2           18.560            0.0              1524               39   \n",
       " 3           10.110            0.0              1898               43   \n",
       " 4           10.110            0.0              1486               40   \n",
       " \n",
       "    moe2D_zagreb   IC50  cox2Class  \n",
       " 0           138  0.001   Inactive  \n",
       " 1           138  0.001   Inactive  \n",
       " 2           142  0.001   Inactive  \n",
       " 3           156  0.001   Inactive  \n",
       " 4           144  0.001   Inactive  \n",
       " \n",
       " [5 rows x 257 columns])"
      ]
     },
     "execution_count": 1,
     "metadata": {},
     "output_type": "execute_result"
    }
   ],
   "source": [
    "import pandas as pd\n",
    "\n",
    "\n",
    "cox2_df = pd.read_csv(\"cox2.csv\")\n",
    "\n",
    "\n",
    "cox2_df.info(), cox2_df.head()\n"
   ]
  },
  {
   "cell_type": "code",
   "execution_count": 2,
   "metadata": {},
   "outputs": [
    {
     "name": "stdout",
     "output_type": "stream",
     "text": [
      "Trainingsdaten: (346, 256)\n",
      "Testdaten: (116, 256)\n"
     ]
    }
   ],
   "source": [
    "from sklearn.model_selection import train_test_split\n",
    "\n",
    "# Zielvariable und Merkmale\n",
    "X = cox2_df.drop(columns=['cox2Class'])     # Alle Features außer Ziel\n",
    "y = cox2_df['cox2Class']                    # Zielvariable\n",
    "\n",
    "# Aufteilen in Trainings- und Testset (75/25)\n",
    "X_train, X_test, y_train, y_test = train_test_split(\n",
    "    X, y, test_size=0.25, random_state=42, stratify=y\n",
    ")\n",
    "\n",
    "# Größen zur Kontrolle\n",
    "print(\"Trainingsdaten:\", X_train.shape)\n",
    "print(\"Testdaten:\", X_test.shape)\n"
   ]
  },
  {
   "cell_type": "code",
   "execution_count": 3,
   "metadata": {},
   "outputs": [],
   "source": [
    "from sklearn.ensemble import RandomForestClassifier\n",
    "from sklearn.preprocessing import StandardScaler\n",
    "\n",
    "# Skalierung (optional)\n",
    "scaler = StandardScaler()\n",
    "X_train_scaled = scaler.fit_transform(X_train)\n",
    "X_test_scaled = scaler.transform(X_test)\n",
    "\n",
    "# Random Forest Klassifikator definieren\n",
    "rf_clf = RandomForestClassifier(random_state=42)\n"
   ]
  },
  {
   "cell_type": "code",
   "execution_count": 4,
   "metadata": {},
   "outputs": [
    {
     "name": "stdout",
     "output_type": "stream",
     "text": [
      "Beste Parameter: {'max_depth': None, 'max_features': 'sqrt', 'n_estimators': 200}\n"
     ]
    }
   ],
   "source": [
    "from sklearn.model_selection import GridSearchCV\n",
    "\n",
    "# Parameter-Gitter definieren\n",
    "param_grid = {\n",
    "    'n_estimators': [100, 200],\n",
    "    'max_depth': [None, 10, 20],\n",
    "    'max_features': ['sqrt', 'log2']  # 'auto' ist veraltet\n",
    "}\n",
    "\n",
    "# GridSearch mit 10-facher Kreuzvalidierung\n",
    "grid_search = GridSearchCV(\n",
    "    estimator=rf_clf,\n",
    "    param_grid=param_grid,\n",
    "    cv=10,\n",
    "    scoring='accuracy',\n",
    "    n_jobs=-1\n",
    ")\n",
    "\n",
    "# Modelltraining starten\n",
    "grid_search.fit(X_train_scaled, y_train)\n",
    "\n",
    "# Beste Parameter anzeigen\n",
    "print(\"Beste Parameter:\", grid_search.best_params_)\n"
   ]
  },
  {
   "cell_type": "code",
   "execution_count": 5,
   "metadata": {},
   "outputs": [
    {
     "name": "stdout",
     "output_type": "stream",
     "text": [
      "Accuracy Scores (10-fold CV): [0.94285714 0.97142857 1.         0.94285714 0.97142857 0.94285714\n",
      " 0.97058824 0.97058824 0.97058824 0.94117647]\n",
      "Durchschnittliche Accuracy: 0.962436974789916\n"
     ]
    }
   ],
   "source": [
    "from sklearn.model_selection import cross_val_score\n",
    "\n",
    "# Bestes Modell extrahieren\n",
    "best_model = grid_search.best_estimator_\n",
    "\n",
    "# 10-fache Kreuzvalidierung auf Trainingsdaten\n",
    "cv_scores = cross_val_score(best_model, X_train_scaled, y_train, cv=10, scoring='accuracy')\n",
    "\n",
    "# Ergebnisse anzeigen\n",
    "print(\"Accuracy Scores (10-fold CV):\", cv_scores)\n",
    "print(\"Durchschnittliche Accuracy:\", cv_scores.mean())\n"
   ]
  },
  {
   "cell_type": "code",
   "execution_count": 6,
   "metadata": {},
   "outputs": [
    {
     "name": "stdout",
     "output_type": "stream",
     "text": [
      "IC50: 0.2936\n",
      "QikProp_QPlogKhsa: 0.0140\n",
      "moe2D_SMR_VSA2: 0.0130\n",
      "QikProp_QPlogS: 0.0127\n",
      "QikProp_accptHB: 0.0119\n",
      "moe2D_logS: 0.0117\n",
      "moe2D_bpol: 0.0108\n",
      "QikProp_IP.eV.: 0.0108\n",
      "moe2D_Q_VSA_POS: 0.0108\n",
      "moe2D_PEOE_VSA_FPPOS: 0.0099\n"
     ]
    }
   ],
   "source": [
    "# Feature Importances ausgeben\n",
    "importances = best_model.feature_importances_\n",
    "feature_names = X.columns\n",
    "\n",
    "# Wichtigkeiten sortiert anzeigen\n",
    "for name, importance in sorted(zip(feature_names, importances), key=lambda x: -x[1])[:10]:\n",
    "    print(f\"{name}: {importance:.4f}\")\n"
   ]
  },
  {
   "cell_type": "code",
   "execution_count": 7,
   "metadata": {},
   "outputs": [
    {
     "name": "stdout",
     "output_type": "stream",
     "text": [
      "Accuracy: 1.0\n",
      "Cohen's Kappa: 1.0\n",
      "Confusion Matrix:\n",
      " [[23  0]\n",
      " [ 0 93]]\n",
      "ROC AUC Score: 1.0\n"
     ]
    }
   ],
   "source": [
    "from sklearn.metrics import accuracy_score, confusion_matrix, cohen_kappa_score, roc_auc_score\n",
    "from sklearn.preprocessing import LabelBinarizer\n",
    "\n",
    "# Vorhersage auf Testdaten\n",
    "y_pred = best_model.predict(X_test_scaled)\n",
    "\n",
    "# Metriken berechnen\n",
    "acc = accuracy_score(y_test, y_pred)\n",
    "kappa = cohen_kappa_score(y_test, y_pred)\n",
    "cm = confusion_matrix(y_test, y_pred)\n",
    "\n",
    "# ROC AUC Score (nur bei binärer Klassifikation)\n",
    "lb = LabelBinarizer()\n",
    "y_test_bin = lb.fit_transform(y_test)\n",
    "y_pred_prob = best_model.predict_proba(X_test_scaled)[:, 1]\n",
    "auc = roc_auc_score(y_test_bin, y_pred_prob)\n",
    "\n",
    "# Ergebnisse anzeigen\n",
    "print(\"Accuracy:\", acc)\n",
    "print(\"Cohen's Kappa:\", kappa)\n",
    "print(\"Confusion Matrix:\\n\", cm)\n",
    "print(\"ROC AUC Score:\", auc)\n"
   ]
  }
 ],
 "metadata": {
  "kernelspec": {
   "display_name": ".venv",
   "language": "python",
   "name": "python3"
  },
  "language_info": {
   "codemirror_mode": {
    "name": "ipython",
    "version": 3
   },
   "file_extension": ".py",
   "mimetype": "text/x-python",
   "name": "python",
   "nbconvert_exporter": "python",
   "pygments_lexer": "ipython3",
   "version": "3.11.9"
  }
 },
 "nbformat": 4,
 "nbformat_minor": 2
}
